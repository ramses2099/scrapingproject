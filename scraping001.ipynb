{
 "cells": [
  {
   "cell_type": "code",
   "execution_count": 16,
   "id": "f53c8437-c82b-427d-b675-6e5a8a267b4d",
   "metadata": {},
   "outputs": [],
   "source": [
    "# Import packages\n",
    "from selenium import webdriver\n",
    "import time\n",
    "import pandas as pd\n",
    "import os\n",
    "\n",
    "from selenium.webdriver.chrome.service import Service\n",
    "from selenium.webdriver.support.select import Select\n",
    "from selenium.webdriver.support.ui import WebDriverWait\n",
    "from selenium.webdriver.common.by import By\n",
    "from selenium.webdriver.support import expected_conditions as EC\n",
    "\n"
   ]
  },
  {
   "cell_type": "code",
   "execution_count": 17,
   "id": "68b808da-1d66-4de8-9cec-c267d1b678a7",
   "metadata": {},
   "outputs": [],
   "source": [
    "url_path =\"https://www.linkedin.com/jobs/search?keywords=Python%20Developer&location=canada&geoId=&trk=public_jobs_jobs-search-bar_search-submit&position=1&pageNum=0\"\n"
   ]
  },
  {
   "cell_type": "code",
   "execution_count": 18,
   "id": "b2d065af-6d5b-4cec-89f0-a50354ebd4c9",
   "metadata": {},
   "outputs": [],
   "source": [
    "# Setting selenium\n",
    "service = Service(executable_path=\"driver//chromedriver.exe\")\n",
    "driver = webdriver.Chrome(service=service)\n",
    "# Open web pages\n",
    "driver.get(url_path)\n",
    "time.sleep(10)"
   ]
  },
  {
   "cell_type": "code",
   "execution_count": 19,
   "id": "0a9de726-ec57-4e2e-bfc9-87e147560b46",
   "metadata": {},
   "outputs": [],
   "source": [
    "total_job_rs = driver.find_element(By.CLASS_NAME,\"results-context-header__job-count\").text.replace(\",\",\"\")\n",
    "total_job = pd.to_numeric(total_job_rs.replace(\"+\",\"\"))"
   ]
  },
  {
   "cell_type": "code",
   "execution_count": 20,
   "id": "6ef487eb-0400-4045-ab45-99895f5cbea2",
   "metadata": {},
   "outputs": [
    {
     "name": "stdout",
     "output_type": "stream",
     "text": [
      "1000\n"
     ]
    }
   ],
   "source": [
    "print(total_job)"
   ]
  },
  {
   "cell_type": "code",
   "execution_count": 21,
   "id": "d8e30626-f64f-4cbf-ad33-2e96d69aebca",
   "metadata": {},
   "outputs": [],
   "source": [
    "positions = []\n",
    "companies = []\n",
    "locations = []\n",
    "activities = []\n",
    "datepublish = []"
   ]
  },
  {
   "cell_type": "code",
   "execution_count": 22,
   "id": "0f053bf1-6f14-4892-967a-4e1dc058454f",
   "metadata": {},
   "outputs": [
    {
     "name": "stdout",
     "output_type": "stream",
     "text": [
      "total pages 20.0\n"
     ]
    }
   ],
   "source": [
    "# Pagining\n",
    "pages = 1\n",
    "if total_job > 50:\n",
    "    pages = total_job / 50\n",
    "    \n",
    "print(f\"total pages {pages}\")\n"
   ]
  },
  {
   "cell_type": "code",
   "execution_count": 23,
   "id": "980dad30-92b3-4f21-b501-deb2ccb91562",
   "metadata": {},
   "outputs": [
    {
     "name": "stdout",
     "output_type": "stream",
     "text": [
      "done\n"
     ]
    }
   ],
   "source": [
    "i=1\n",
    "while i <= pages:\n",
    "    driver.execute_script(\"window.scrollTo(0, document.body.scrollHeight);\")\n",
    "    i = i + 1\n",
    "    try:\n",
    "        btn = driver.find_element(By.CLASS_NAME,\"infinite-scroller__show-more-button infinite-scroller__show-more-button--visible\")\n",
    "        driver.execute_script(\"arguments[0].click();\", btn)\n",
    "        time.sleep(30)\n",
    "    except:\n",
    "        time.sleep(3)\n",
    "        \n",
    "    \n",
    "print('done')"
   ]
  },
  {
   "cell_type": "code",
   "execution_count": 24,
   "id": "18bf204d-d48c-4e6f-890e-36e789f2a0cc",
   "metadata": {},
   "outputs": [],
   "source": [
    " # Startin fill data\n",
    "ul = driver.find_element(By.CLASS_NAME,\"jobs-search__results-list\")\n",
    "# print(ul2.text)\n",
    "elements = ul.find_elements(By.TAG_NAME, 'li')\n",
    "# e = elements[0].text.split('\\n')\n",
    "# print(len(e))\n",
    "for i in range(len(elements)):\n",
    "    elem = elements[i].text.split('\\n')\n",
    "    if len(elem) == 6:\n",
    "        positions.append(elem[1])\n",
    "        companies.append(elem[2])\n",
    "        locations.append(elem[3])\n",
    "        activities.append(elem[4])\n",
    "        datepublish.append(elem[5]) \n",
    "    elif len(elem) == 5:\n",
    "        positions.append(elem[1])\n",
    "        companies.append(elem[2])\n",
    "        locations.append(elem[3])\n",
    "        activities.append(\"\")\n",
    "        datepublish.append(elem[4])\n",
    "    elif len(elem) == 4:\n",
    "        positions.append(elem[0])\n",
    "        companies.append(elem[1])\n",
    "        locations.append(elem[2])\n",
    "        activities.append(\"\")\n",
    "        datepublish.append(elem[3])\n",
    "    else:\n",
    "        positions.append(\"\")\n",
    "        companies.append(\"\")\n",
    "        locations.append(\"\")\n",
    "        activities.append(\"\")\n",
    "        datepublish.append(\"\")\n"
   ]
  },
  {
   "cell_type": "code",
   "execution_count": 25,
   "id": "9cb2abd4-3dc7-43f9-b473-29d52e010b1c",
   "metadata": {},
   "outputs": [],
   "source": [
    "dict_data = {'Position':positions, 'Companies':companies, 'Location':locations, 'Activity': activities, 'Date_Publish':datepublish}"
   ]
  },
  {
   "cell_type": "code",
   "execution_count": 26,
   "id": "ad66d79d-94a1-410e-abc6-5ee11f3ca1a9",
   "metadata": {},
   "outputs": [],
   "source": [
    "df = pd.DataFrame(dict_data)"
   ]
  },
  {
   "cell_type": "code",
   "execution_count": 27,
   "id": "2bed679d-be71-41fb-aa58-e829df778fa6",
   "metadata": {},
   "outputs": [
    {
     "data": {
      "text/plain": [
       "Position        450\n",
       "Companies       450\n",
       "Location        450\n",
       "Activity        450\n",
       "Date_Publish    450\n",
       "dtype: int64"
      ]
     },
     "execution_count": 27,
     "metadata": {},
     "output_type": "execute_result"
    }
   ],
   "source": [
    "df.count()"
   ]
  },
  {
   "cell_type": "code",
   "execution_count": 28,
   "id": "9eadf853-89d7-4513-ad5f-78464bf49c72",
   "metadata": {},
   "outputs": [
    {
     "data": {
      "text/html": [
       "<div>\n",
       "<style scoped>\n",
       "    .dataframe tbody tr th:only-of-type {\n",
       "        vertical-align: middle;\n",
       "    }\n",
       "\n",
       "    .dataframe tbody tr th {\n",
       "        vertical-align: top;\n",
       "    }\n",
       "\n",
       "    .dataframe thead th {\n",
       "        text-align: right;\n",
       "    }\n",
       "</style>\n",
       "<table border=\"1\" class=\"dataframe\">\n",
       "  <thead>\n",
       "    <tr style=\"text-align: right;\">\n",
       "      <th></th>\n",
       "      <th>Position</th>\n",
       "      <th>Companies</th>\n",
       "      <th>Location</th>\n",
       "      <th>Activity</th>\n",
       "      <th>Date_Publish</th>\n",
       "    </tr>\n",
       "  </thead>\n",
       "  <tbody>\n",
       "    <tr>\n",
       "      <th>0</th>\n",
       "      <td>Python Developer</td>\n",
       "      <td>Zortech Solutions</td>\n",
       "      <td>Toronto, Ontario, Canada</td>\n",
       "      <td>Actively Hiring</td>\n",
       "      <td>2 months ago</td>\n",
       "    </tr>\n",
       "    <tr>\n",
       "      <th>1</th>\n",
       "      <td>Python Developer - Toronto (Hybrid)</td>\n",
       "      <td>Zortech Solutions</td>\n",
       "      <td>Toronto, Ontario, Canada</td>\n",
       "      <td>Actively Hiring</td>\n",
       "      <td>2 months ago</td>\n",
       "    </tr>\n",
       "    <tr>\n",
       "      <th>2</th>\n",
       "      <td>Python Programmer</td>\n",
       "      <td>ClifyX</td>\n",
       "      <td>Brampton, Ontario, Canada</td>\n",
       "      <td>Be an early applicant</td>\n",
       "      <td>3 weeks ago</td>\n",
       "    </tr>\n",
       "    <tr>\n",
       "      <th>3</th>\n",
       "      <td>Mid Level-Python Developer- Canada</td>\n",
       "      <td>Zortech Solutions</td>\n",
       "      <td>Canada</td>\n",
       "      <td>Actively Hiring</td>\n",
       "      <td>3 months ago</td>\n",
       "    </tr>\n",
       "    <tr>\n",
       "      <th>4</th>\n",
       "      <td>Software Developer (Python)</td>\n",
       "      <td>Visier Inc.</td>\n",
       "      <td>Vancouver, British Columbia, Canada</td>\n",
       "      <td>Actively Hiring</td>\n",
       "      <td>2 weeks ago</td>\n",
       "    </tr>\n",
       "  </tbody>\n",
       "</table>\n",
       "</div>"
      ],
      "text/plain": [
       "                              Position          Companies  \\\n",
       "0                     Python Developer  Zortech Solutions   \n",
       "1  Python Developer - Toronto (Hybrid)  Zortech Solutions   \n",
       "2                    Python Programmer             ClifyX   \n",
       "3   Mid Level-Python Developer- Canada  Zortech Solutions   \n",
       "4          Software Developer (Python)        Visier Inc.   \n",
       "\n",
       "                              Location               Activity  Date_Publish  \n",
       "0             Toronto, Ontario, Canada        Actively Hiring  2 months ago  \n",
       "1             Toronto, Ontario, Canada        Actively Hiring  2 months ago  \n",
       "2            Brampton, Ontario, Canada  Be an early applicant   3 weeks ago  \n",
       "3                               Canada        Actively Hiring  3 months ago  \n",
       "4  Vancouver, British Columbia, Canada        Actively Hiring   2 weeks ago  "
      ]
     },
     "execution_count": 28,
     "metadata": {},
     "output_type": "execute_result"
    }
   ],
   "source": [
    "df.head()"
   ]
  },
  {
   "cell_type": "code",
   "execution_count": 29,
   "id": "98e01956-8b31-48df-9a35-6e5db493b01a",
   "metadata": {},
   "outputs": [
    {
     "data": {
      "text/html": [
       "<div>\n",
       "<style scoped>\n",
       "    .dataframe tbody tr th:only-of-type {\n",
       "        vertical-align: middle;\n",
       "    }\n",
       "\n",
       "    .dataframe tbody tr th {\n",
       "        vertical-align: top;\n",
       "    }\n",
       "\n",
       "    .dataframe thead th {\n",
       "        text-align: right;\n",
       "    }\n",
       "</style>\n",
       "<table border=\"1\" class=\"dataframe\">\n",
       "  <thead>\n",
       "    <tr style=\"text-align: right;\">\n",
       "      <th></th>\n",
       "      <th>Position</th>\n",
       "      <th>Companies</th>\n",
       "      <th>Location</th>\n",
       "      <th>Activity</th>\n",
       "      <th>Date_Publish</th>\n",
       "    </tr>\n",
       "  </thead>\n",
       "  <tbody>\n",
       "    <tr>\n",
       "      <th>445</th>\n",
       "      <td>Senior Backend Engineer - Product (Toronto)</td>\n",
       "      <td>US Mobile</td>\n",
       "      <td>Toronto, Ontario, Canada</td>\n",
       "      <td>Actively Hiring</td>\n",
       "      <td>12 months ago</td>\n",
       "    </tr>\n",
       "    <tr>\n",
       "      <th>446</th>\n",
       "      <td>Ingénieur Full Stack- REMOTE</td>\n",
       "      <td>Cisco Meraki</td>\n",
       "      <td>Canada</td>\n",
       "      <td>Actively Hiring</td>\n",
       "      <td>3 days ago</td>\n",
       "    </tr>\n",
       "    <tr>\n",
       "      <th>447</th>\n",
       "      <td>Senior Fullstack Developer</td>\n",
       "      <td>Scotiabank</td>\n",
       "      <td>Toronto, Ontario, Canada</td>\n",
       "      <td>Actively Hiring</td>\n",
       "      <td>1 week ago</td>\n",
       "    </tr>\n",
       "    <tr>\n",
       "      <th>448</th>\n",
       "      <td>Senior Backend Software Engineer</td>\n",
       "      <td>Maxis Studios - EA</td>\n",
       "      <td>Toronto, Ontario, Canada</td>\n",
       "      <td></td>\n",
       "      <td>2 days ago</td>\n",
       "    </tr>\n",
       "    <tr>\n",
       "      <th>449</th>\n",
       "      <td>Senior Java Fullstack developer</td>\n",
       "      <td>Iris Software Inc.</td>\n",
       "      <td>Toronto, Ontario, Canada</td>\n",
       "      <td>Actively Hiring</td>\n",
       "      <td>21 hours ago</td>\n",
       "    </tr>\n",
       "  </tbody>\n",
       "</table>\n",
       "</div>"
      ],
      "text/plain": [
       "                                        Position           Companies  \\\n",
       "445  Senior Backend Engineer - Product (Toronto)           US Mobile   \n",
       "446                 Ingénieur Full Stack- REMOTE        Cisco Meraki   \n",
       "447                   Senior Fullstack Developer          Scotiabank   \n",
       "448             Senior Backend Software Engineer  Maxis Studios - EA   \n",
       "449              Senior Java Fullstack developer  Iris Software Inc.   \n",
       "\n",
       "                     Location         Activity   Date_Publish  \n",
       "445  Toronto, Ontario, Canada  Actively Hiring  12 months ago  \n",
       "446                    Canada  Actively Hiring     3 days ago  \n",
       "447  Toronto, Ontario, Canada  Actively Hiring     1 week ago  \n",
       "448  Toronto, Ontario, Canada                      2 days ago  \n",
       "449  Toronto, Ontario, Canada  Actively Hiring   21 hours ago  "
      ]
     },
     "execution_count": 29,
     "metadata": {},
     "output_type": "execute_result"
    }
   ],
   "source": [
    "df.tail()"
   ]
  },
  {
   "cell_type": "code",
   "execution_count": 30,
   "id": "66cc01e1-bbf4-4797-b0ab-e78dea967122",
   "metadata": {},
   "outputs": [
    {
     "name": "stdout",
     "output_type": "stream",
     "text": [
      "Data has been exported to datasets//linkedinjobsdetails.xlsx succefully.\n"
     ]
    }
   ],
   "source": [
    "excel_filename = \"datasets//linkedinjobsdetails.xlsx\"\n",
    "df.to_excel(excel_filename, index=True)\n",
    "print(f\"Data has been exported to {excel_filename} succefully.\")"
   ]
  },
  {
   "cell_type": "code",
   "execution_count": null,
   "id": "86536b78-e0f5-43a0-872f-fbb06c0ce083",
   "metadata": {},
   "outputs": [],
   "source": []
  }
 ],
 "metadata": {
  "kernelspec": {
   "display_name": "Python 3 (ipykernel)",
   "language": "python",
   "name": "python3"
  },
  "language_info": {
   "codemirror_mode": {
    "name": "ipython",
    "version": 3
   },
   "file_extension": ".py",
   "mimetype": "text/x-python",
   "name": "python",
   "nbconvert_exporter": "python",
   "pygments_lexer": "ipython3",
   "version": "3.12.1"
  }
 },
 "nbformat": 4,
 "nbformat_minor": 5
}
